{
 "cells": [
  {
   "cell_type": "markdown",
   "metadata": {},
   "source": [
    "# **Jupyter notebook for time series forecasting based on machine learning**\n",
    "### **01 Description**\n",
    "\n",
    "This Jupyter notebook is used for traffic flow time series prediction, using the GRU model and the TGCN model (https://ieeexplore.ieee.org/abstract/document/8809901). The experimental data comes from the following related code.\n",
    "\n",
    "### **02 Import libraries and complete instantiation**"
   ]
  },
  {
   "cell_type": "code",
   "execution_count": null,
   "metadata": {},
   "outputs": [],
   "source": [
    "# Import necessary modules\n",
    "from utils.data_process import create_dataloader\n",
    "from instance_parameters import Predict\n",
    "from models.exp1_gru import GRU\n",
    "from models.exp1_tgcn import TGCN, load_adjacency_matrix\n",
    "from utils.predict import predict\n",
    "from utils.test_and_inspect_fit import test, inspect_model_fit\n",
    "from utils.train import train\n",
    "import torch"
   ]
  },
  {
   "cell_type": "markdown",
   "metadata": {},
   "source": [
    "**The parameters you can adjust** (for example, instance.model = 'GRU')\n",
    "**Parameter**     | **Value**\n",
    "-------- | -----\n",
    "model  | 'TGCN'/'GRU'\n",
    "input_size  | 40\n",
    "use_gpu  | False\n",
    "device  | 0\n",
    "lr  | 0.001\n",
    "epochs  | 100\n",
    "batch_size  | 32\n",
    "hidden_size  | 48\n",
    "data_path  | 'dataset/filled_sz_speed.csv'\n",
    "target  | '92878'\n",
    "window_size  |  48\n",
    "pre_len  | 4\n",
    "shuffle  | True"
   ]
  },
  {
   "cell_type": "code",
   "execution_count": null,
   "metadata": {},
   "outputs": [],
   "source": [
    "\n",
    "# Create an instance of the Predict class\n",
    "instance = Predict()\n",
    "instance.model = 'GRU'\n",
    "instance.input_size = 40\n",
    "instance.hidden_size = 10\n",
    "instance.data_path = 'dataset/sz_speed.csv'\n",
    "instance.target = '90224'\n",
    "instance.epochs = 100"
   ]
  },
  {
   "cell_type": "markdown",
   "metadata": {},
   "source": [
    "### **03 Confirm used device（GPU or CPU）**"
   ]
  },
  {
   "cell_type": "code",
   "execution_count": null,
   "metadata": {},
   "outputs": [],
   "source": [
    "if isinstance(instance.device, int) and instance.use_gpu:\n",
    "    device = torch.device(\"cuda:\" + f'{instance.device}')\n",
    "else:\n",
    "    device = torch.device(\"cpu\")\n",
    "train_loader, test_loader, valid_loader, scaler= create_dataloader(instance, device)\n",
    "print(\"Used device:\", device)"
   ]
  },
  {
   "cell_type": "markdown",
   "metadata": {},
   "source": [
    "### 03 Instantiate the model"
   ]
  },
  {
   "cell_type": "code",
   "execution_count": null,
   "metadata": {},
   "outputs": [],
   "source": [
    "try:\n",
    "    print(f\"Start initializing the {instance.model} model\")\n",
    "    if instance.model == 'GRU':\n",
    "        model = GRU(input_dim = instance.input_size, hidden_size = instance.hidden_size, args = instance)\n",
    "    elif instance.model == 'TGCN':\n",
    "        adj = load_adjacency_matrix('dataset/sz_adj.csv')\n",
    "        model = TGCN(adj = adj, hidden_size = instance.hidden_size ,args = instance)\n",
    "    print(f\"Initialization of the {instance.model} model is complete\")\n",
    "except Exception as e:\n",
    "    print(f\"Initialization of the {instance.model} model failed\")\n",
    "    print(f\"Failure Details:{e}\")"
   ]
  },
  {
   "cell_type": "markdown",
   "metadata": {},
   "source": [
    "### 04 Train model"
   ]
  },
  {
   "cell_type": "code",
   "execution_count": null,
   "metadata": {},
   "outputs": [],
   "source": [
    "if instance.train:\n",
    "    print(f\"Start {instance.model} model training\")\n",
    "    train(model, instance, train_loader, scaler)"
   ]
  },
  {
   "cell_type": "markdown",
   "metadata": {},
   "source": [
    "### 05 test model"
   ]
  },
  {
   "cell_type": "code",
   "execution_count": null,
   "metadata": {},
   "outputs": [],
   "source": [
    "if instance.test:\n",
    "    print(f\">>>>>>>>>>>>>>>>>>>>>>>>>开始{instance.model}模型测试<<<<<<<<<<<<<<<<<<<<<<<<<<<\")\n",
    "    test(model, instance, test_loader, scaler)"
   ]
  },
  {
   "cell_type": "markdown",
   "metadata": {},
   "source": [
    "### 06 Inspect model fitting results"
   ]
  },
  {
   "cell_type": "code",
   "execution_count": null,
   "metadata": {},
   "outputs": [],
   "source": [
    "if instance.inspect_fit:\n",
    "    print(f\">>>>>>>>>>>>>>>>>>>>>>>>>开始检验{instance.model}模型拟合情况<<<<<<<<<<<<<<<<<<<<<<<<<<<\")\n",
    "    inspect_model_fit(model, instance, train_loader, scaler)"
   ]
  },
  {
   "cell_type": "code",
   "execution_count": null,
   "metadata": {},
   "outputs": [],
   "source": [
    "if instance.predict:\n",
    "    print(f\">>>>>>>>>>>>>>>>>>>>>>>>>预测未来{instance.pre_len}条数据<<<<<<<<<<<<<<<<<<<<<<<<<<<\")\n",
    "    predict(model, instance, device, scaler)"
   ]
  }
 ],
 "metadata": {
  "kernelspec": {
   "display_name": "tensorflow",
   "language": "python",
   "name": "python3"
  },
  "language_info": {
   "codemirror_mode": {
    "name": "ipython",
    "version": 3
   },
   "file_extension": ".py",
   "mimetype": "text/x-python",
   "name": "python",
   "nbconvert_exporter": "python",
   "pygments_lexer": "ipython3",
   "version": "3.11.5"
  }
 },
 "nbformat": 4,
 "nbformat_minor": 2
}
